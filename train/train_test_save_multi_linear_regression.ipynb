{
 "cells": [
  {
   "cell_type": "code",
   "execution_count": 1,
   "metadata": {},
   "outputs": [],
   "source": [
    "%matplotlib inline\n",
    "import matplotlib.pyplot as plt\n",
    "import numpy as np\n",
    "import pandas as pd\n",
    "import os\n",
    "import pickle"
   ]
  },
  {
   "cell_type": "code",
   "execution_count": 2,
   "metadata": {},
   "outputs": [],
   "source": [
    "COMBINED_DATA = os.path.join('..', 'data', 'combined-data.csv')"
   ]
  },
  {
   "cell_type": "code",
   "execution_count": 3,
   "metadata": {},
   "outputs": [
    {
     "data": {
      "text/html": [
       "<div>\n",
       "<style scoped>\n",
       "    .dataframe tbody tr th:only-of-type {\n",
       "        vertical-align: middle;\n",
       "    }\n",
       "\n",
       "    .dataframe tbody tr th {\n",
       "        vertical-align: top;\n",
       "    }\n",
       "\n",
       "    .dataframe thead th {\n",
       "        text-align: right;\n",
       "    }\n",
       "</style>\n",
       "<table border=\"1\" class=\"dataframe\">\n",
       "  <thead>\n",
       "    <tr style=\"text-align: right;\">\n",
       "      <th></th>\n",
       "      <th>Year</th>\n",
       "      <th>Artist</th>\n",
       "      <th>Title</th>\n",
       "      <th>URL</th>\n",
       "      <th>TrackId</th>\n",
       "      <th>Acousticness</th>\n",
       "      <th>Danceability</th>\n",
       "      <th>Duration (ms)</th>\n",
       "      <th>Energy</th>\n",
       "      <th>Instrumentalness</th>\n",
       "      <th>...</th>\n",
       "      <th>Mode</th>\n",
       "      <th>Speechiness</th>\n",
       "      <th>Tempo</th>\n",
       "      <th>Time Signature</th>\n",
       "      <th>Valence</th>\n",
       "      <th>Album</th>\n",
       "      <th>Image</th>\n",
       "      <th>Explicit</th>\n",
       "      <th>Popularity</th>\n",
       "      <th>Winner</th>\n",
       "    </tr>\n",
       "  </thead>\n",
       "  <tbody>\n",
       "    <tr>\n",
       "      <th>0</th>\n",
       "      <td>1958</td>\n",
       "      <td>Nel Blu Dipinto Di Blu (Volare)</td>\n",
       "      <td>Nel Blu Dipinto Di Blu (Volare)</td>\n",
       "      <td>https://open.spotify.com/track/006Ndmw2hHxvnLb...</td>\n",
       "      <td>006Ndmw2hHxvnLbJsBFnPx</td>\n",
       "      <td>0.987</td>\n",
       "      <td>0.518</td>\n",
       "      <td>216373.0</td>\n",
       "      <td>0.060</td>\n",
       "      <td>0.000008</td>\n",
       "      <td>...</td>\n",
       "      <td>1.0</td>\n",
       "      <td>0.0441</td>\n",
       "      <td>127.870</td>\n",
       "      <td>4.0</td>\n",
       "      <td>0.336</td>\n",
       "      <td>Tutto Modugno (Mister Volare)</td>\n",
       "      <td>https://i.scdn.co/image/5e8c49f7a8d161c1d65109...</td>\n",
       "      <td>False</td>\n",
       "      <td>35.0</td>\n",
       "      <td>1</td>\n",
       "    </tr>\n",
       "    <tr>\n",
       "      <th>1</th>\n",
       "      <td>1958</td>\n",
       "      <td>Henry Mancini</td>\n",
       "      <td>The Music From Peter Gunn</td>\n",
       "      <td>https://open.spotify.com/track/3BdPP6Xce6FUcfa...</td>\n",
       "      <td>3BdPP6Xce6FUcfaCFsnZIg</td>\n",
       "      <td>0.893</td>\n",
       "      <td>0.550</td>\n",
       "      <td>177733.0</td>\n",
       "      <td>0.318</td>\n",
       "      <td>0.881000</td>\n",
       "      <td>...</td>\n",
       "      <td>1.0</td>\n",
       "      <td>0.0313</td>\n",
       "      <td>138.037</td>\n",
       "      <td>4.0</td>\n",
       "      <td>0.620</td>\n",
       "      <td>The music from Peter Gunn</td>\n",
       "      <td>https://i.scdn.co/image/1ad2e8ce1f988c27678298...</td>\n",
       "      <td>False</td>\n",
       "      <td>16.0</td>\n",
       "      <td>1</td>\n",
       "    </tr>\n",
       "    <tr>\n",
       "      <th>2</th>\n",
       "      <td>1958</td>\n",
       "      <td>Ella Fitzgerald</td>\n",
       "      <td>Ella Fitzgerald Sings The Irving Berlin Song Book</td>\n",
       "      <td>https://open.spotify.com/track/5FY0EikZVSBOwpj...</td>\n",
       "      <td>5FY0EikZVSBOwpjQa9S5Ii</td>\n",
       "      <td>0.675</td>\n",
       "      <td>0.615</td>\n",
       "      <td>138320.0</td>\n",
       "      <td>0.186</td>\n",
       "      <td>0.000000</td>\n",
       "      <td>...</td>\n",
       "      <td>0.0</td>\n",
       "      <td>0.0508</td>\n",
       "      <td>73.007</td>\n",
       "      <td>4.0</td>\n",
       "      <td>0.749</td>\n",
       "      <td>Ella Fitzgerald Sings The Irving Berlin Song Book</td>\n",
       "      <td>https://i.scdn.co/image/3350581fb4712a44a6f6b5...</td>\n",
       "      <td>False</td>\n",
       "      <td>34.0</td>\n",
       "      <td>1</td>\n",
       "    </tr>\n",
       "    <tr>\n",
       "      <th>3</th>\n",
       "      <td>1958</td>\n",
       "      <td>Catch A Falling Star</td>\n",
       "      <td>Catch A Falling Star</td>\n",
       "      <td>https://open.spotify.com/track/0qu9P0DcFcgAycR...</td>\n",
       "      <td>0qu9P0DcFcgAycRsbWupnZ</td>\n",
       "      <td>0.259</td>\n",
       "      <td>0.726</td>\n",
       "      <td>176840.0</td>\n",
       "      <td>0.330</td>\n",
       "      <td>0.000309</td>\n",
       "      <td>...</td>\n",
       "      <td>1.0</td>\n",
       "      <td>0.0330</td>\n",
       "      <td>109.158</td>\n",
       "      <td>4.0</td>\n",
       "      <td>0.712</td>\n",
       "      <td>I Just Came Home To Count The Memories</td>\n",
       "      <td>https://i.scdn.co/image/848ede6cee3d8111533c7e...</td>\n",
       "      <td>False</td>\n",
       "      <td>39.0</td>\n",
       "      <td>1</td>\n",
       "    </tr>\n",
       "    <tr>\n",
       "      <th>4</th>\n",
       "      <td>1958</td>\n",
       "      <td>Billy May's Big Fat Brass</td>\n",
       "      <td>Billy May's Big Fat Brass</td>\n",
       "      <td>https://open.spotify.com/track/4fv9FQ1TNeAYw8z...</td>\n",
       "      <td>4fv9FQ1TNeAYw8zJrVMUi7</td>\n",
       "      <td>0.421</td>\n",
       "      <td>0.711</td>\n",
       "      <td>145907.0</td>\n",
       "      <td>0.254</td>\n",
       "      <td>0.000045</td>\n",
       "      <td>...</td>\n",
       "      <td>0.0</td>\n",
       "      <td>0.0374</td>\n",
       "      <td>115.418</td>\n",
       "      <td>4.0</td>\n",
       "      <td>0.552</td>\n",
       "      <td>Billy May's Big Fat Brass</td>\n",
       "      <td>https://i.scdn.co/image/04fbb97c5d46c80d9fc9e1...</td>\n",
       "      <td>False</td>\n",
       "      <td>9.0</td>\n",
       "      <td>1</td>\n",
       "    </tr>\n",
       "  </tbody>\n",
       "</table>\n",
       "<p>5 rows × 23 columns</p>\n",
       "</div>"
      ],
      "text/plain": [
       "   Year                           Artist  \\\n",
       "0  1958  Nel Blu Dipinto Di Blu (Volare)   \n",
       "1  1958                    Henry Mancini   \n",
       "2  1958                  Ella Fitzgerald   \n",
       "3  1958             Catch A Falling Star   \n",
       "4  1958        Billy May's Big Fat Brass   \n",
       "\n",
       "                                               Title  \\\n",
       "0                    Nel Blu Dipinto Di Blu (Volare)   \n",
       "1                          The Music From Peter Gunn   \n",
       "2  Ella Fitzgerald Sings The Irving Berlin Song Book   \n",
       "3                               Catch A Falling Star   \n",
       "4                          Billy May's Big Fat Brass   \n",
       "\n",
       "                                                 URL                 TrackId  \\\n",
       "0  https://open.spotify.com/track/006Ndmw2hHxvnLb...  006Ndmw2hHxvnLbJsBFnPx   \n",
       "1  https://open.spotify.com/track/3BdPP6Xce6FUcfa...  3BdPP6Xce6FUcfaCFsnZIg   \n",
       "2  https://open.spotify.com/track/5FY0EikZVSBOwpj...  5FY0EikZVSBOwpjQa9S5Ii   \n",
       "3  https://open.spotify.com/track/0qu9P0DcFcgAycR...  0qu9P0DcFcgAycRsbWupnZ   \n",
       "4  https://open.spotify.com/track/4fv9FQ1TNeAYw8z...  4fv9FQ1TNeAYw8zJrVMUi7   \n",
       "\n",
       "   Acousticness  Danceability  Duration (ms)  Energy  Instrumentalness  ...  \\\n",
       "0         0.987         0.518       216373.0   0.060          0.000008  ...   \n",
       "1         0.893         0.550       177733.0   0.318          0.881000  ...   \n",
       "2         0.675         0.615       138320.0   0.186          0.000000  ...   \n",
       "3         0.259         0.726       176840.0   0.330          0.000309  ...   \n",
       "4         0.421         0.711       145907.0   0.254          0.000045  ...   \n",
       "\n",
       "   Mode  Speechiness    Tempo  Time Signature  Valence  \\\n",
       "0   1.0       0.0441  127.870             4.0    0.336   \n",
       "1   1.0       0.0313  138.037             4.0    0.620   \n",
       "2   0.0       0.0508   73.007             4.0    0.749   \n",
       "3   1.0       0.0330  109.158             4.0    0.712   \n",
       "4   0.0       0.0374  115.418             4.0    0.552   \n",
       "\n",
       "                                               Album  \\\n",
       "0                      Tutto Modugno (Mister Volare)   \n",
       "1                          The music from Peter Gunn   \n",
       "2  Ella Fitzgerald Sings The Irving Berlin Song Book   \n",
       "3             I Just Came Home To Count The Memories   \n",
       "4                          Billy May's Big Fat Brass   \n",
       "\n",
       "                                               Image  Explicit Popularity  \\\n",
       "0  https://i.scdn.co/image/5e8c49f7a8d161c1d65109...     False       35.0   \n",
       "1  https://i.scdn.co/image/1ad2e8ce1f988c27678298...     False       16.0   \n",
       "2  https://i.scdn.co/image/3350581fb4712a44a6f6b5...     False       34.0   \n",
       "3  https://i.scdn.co/image/848ede6cee3d8111533c7e...     False       39.0   \n",
       "4  https://i.scdn.co/image/04fbb97c5d46c80d9fc9e1...     False        9.0   \n",
       "\n",
       "  Winner  \n",
       "0      1  \n",
       "1      1  \n",
       "2      1  \n",
       "3      1  \n",
       "4      1  \n",
       "\n",
       "[5 rows x 23 columns]"
      ]
     },
     "execution_count": 3,
     "metadata": {},
     "output_type": "execute_result"
    }
   ],
   "source": [
    "songs_df = pd.read_csv(COMBINED_DATA)\n",
    "songs_df.head()"
   ]
  },
  {
   "cell_type": "code",
   "execution_count": 4,
   "metadata": {},
   "outputs": [
    {
     "data": {
      "text/plain": [
       "Index(['Year', 'Artist', 'Title', 'URL', 'TrackId', 'Acousticness',\n",
       "       'Danceability', 'Duration (ms)', 'Energy', 'Instrumentalness', 'Key',\n",
       "       'Liveness', 'Loudness', 'Mode', 'Speechiness', 'Tempo',\n",
       "       'Time Signature', 'Valence', 'Album', 'Image', 'Explicit', 'Popularity',\n",
       "       'Winner'],\n",
       "      dtype='object')"
      ]
     },
     "execution_count": 4,
     "metadata": {},
     "output_type": "execute_result"
    }
   ],
   "source": [
    "songs_df.columns"
   ]
  },
  {
   "cell_type": "code",
   "execution_count": 5,
   "metadata": {},
   "outputs": [
    {
     "data": {
      "text/html": [
       "<div>\n",
       "<style scoped>\n",
       "    .dataframe tbody tr th:only-of-type {\n",
       "        vertical-align: middle;\n",
       "    }\n",
       "\n",
       "    .dataframe tbody tr th {\n",
       "        vertical-align: top;\n",
       "    }\n",
       "\n",
       "    .dataframe thead th {\n",
       "        text-align: right;\n",
       "    }\n",
       "</style>\n",
       "<table border=\"1\" class=\"dataframe\">\n",
       "  <thead>\n",
       "    <tr style=\"text-align: right;\">\n",
       "      <th></th>\n",
       "      <th>Year</th>\n",
       "      <th>Acousticness</th>\n",
       "      <th>Danceability</th>\n",
       "      <th>Duration (ms)</th>\n",
       "      <th>Energy</th>\n",
       "      <th>Instrumentalness</th>\n",
       "      <th>Key</th>\n",
       "      <th>Liveness</th>\n",
       "      <th>Loudness</th>\n",
       "      <th>Mode</th>\n",
       "      <th>Speechiness</th>\n",
       "      <th>Tempo</th>\n",
       "      <th>Time Signature</th>\n",
       "      <th>Valence</th>\n",
       "      <th>Explicit</th>\n",
       "      <th>Popularity</th>\n",
       "    </tr>\n",
       "  </thead>\n",
       "  <tbody>\n",
       "    <tr>\n",
       "      <th>0</th>\n",
       "      <td>1958</td>\n",
       "      <td>0.987</td>\n",
       "      <td>0.518</td>\n",
       "      <td>216373.0</td>\n",
       "      <td>0.060</td>\n",
       "      <td>0.000008</td>\n",
       "      <td>10.0</td>\n",
       "      <td>0.1610</td>\n",
       "      <td>-14.887</td>\n",
       "      <td>1.0</td>\n",
       "      <td>0.0441</td>\n",
       "      <td>127.870</td>\n",
       "      <td>4.0</td>\n",
       "      <td>0.336</td>\n",
       "      <td>False</td>\n",
       "      <td>35.0</td>\n",
       "    </tr>\n",
       "    <tr>\n",
       "      <th>1</th>\n",
       "      <td>1958</td>\n",
       "      <td>0.893</td>\n",
       "      <td>0.550</td>\n",
       "      <td>177733.0</td>\n",
       "      <td>0.318</td>\n",
       "      <td>0.881000</td>\n",
       "      <td>0.0</td>\n",
       "      <td>0.0311</td>\n",
       "      <td>-14.516</td>\n",
       "      <td>1.0</td>\n",
       "      <td>0.0313</td>\n",
       "      <td>138.037</td>\n",
       "      <td>4.0</td>\n",
       "      <td>0.620</td>\n",
       "      <td>False</td>\n",
       "      <td>16.0</td>\n",
       "    </tr>\n",
       "    <tr>\n",
       "      <th>2</th>\n",
       "      <td>1958</td>\n",
       "      <td>0.675</td>\n",
       "      <td>0.615</td>\n",
       "      <td>138320.0</td>\n",
       "      <td>0.186</td>\n",
       "      <td>0.000000</td>\n",
       "      <td>0.0</td>\n",
       "      <td>0.1940</td>\n",
       "      <td>-12.382</td>\n",
       "      <td>0.0</td>\n",
       "      <td>0.0508</td>\n",
       "      <td>73.007</td>\n",
       "      <td>4.0</td>\n",
       "      <td>0.749</td>\n",
       "      <td>False</td>\n",
       "      <td>34.0</td>\n",
       "    </tr>\n",
       "    <tr>\n",
       "      <th>3</th>\n",
       "      <td>1958</td>\n",
       "      <td>0.259</td>\n",
       "      <td>0.726</td>\n",
       "      <td>176840.0</td>\n",
       "      <td>0.330</td>\n",
       "      <td>0.000309</td>\n",
       "      <td>1.0</td>\n",
       "      <td>0.0704</td>\n",
       "      <td>-14.864</td>\n",
       "      <td>1.0</td>\n",
       "      <td>0.0330</td>\n",
       "      <td>109.158</td>\n",
       "      <td>4.0</td>\n",
       "      <td>0.712</td>\n",
       "      <td>False</td>\n",
       "      <td>39.0</td>\n",
       "    </tr>\n",
       "    <tr>\n",
       "      <th>4</th>\n",
       "      <td>1958</td>\n",
       "      <td>0.421</td>\n",
       "      <td>0.711</td>\n",
       "      <td>145907.0</td>\n",
       "      <td>0.254</td>\n",
       "      <td>0.000045</td>\n",
       "      <td>0.0</td>\n",
       "      <td>0.1360</td>\n",
       "      <td>-12.661</td>\n",
       "      <td>0.0</td>\n",
       "      <td>0.0374</td>\n",
       "      <td>115.418</td>\n",
       "      <td>4.0</td>\n",
       "      <td>0.552</td>\n",
       "      <td>False</td>\n",
       "      <td>9.0</td>\n",
       "    </tr>\n",
       "  </tbody>\n",
       "</table>\n",
       "</div>"
      ],
      "text/plain": [
       "   Year  Acousticness  Danceability  Duration (ms)  Energy  Instrumentalness  \\\n",
       "0  1958         0.987         0.518       216373.0   0.060          0.000008   \n",
       "1  1958         0.893         0.550       177733.0   0.318          0.881000   \n",
       "2  1958         0.675         0.615       138320.0   0.186          0.000000   \n",
       "3  1958         0.259         0.726       176840.0   0.330          0.000309   \n",
       "4  1958         0.421         0.711       145907.0   0.254          0.000045   \n",
       "\n",
       "    Key  Liveness  Loudness  Mode  Speechiness    Tempo  Time Signature  \\\n",
       "0  10.0    0.1610   -14.887   1.0       0.0441  127.870             4.0   \n",
       "1   0.0    0.0311   -14.516   1.0       0.0313  138.037             4.0   \n",
       "2   0.0    0.1940   -12.382   0.0       0.0508   73.007             4.0   \n",
       "3   1.0    0.0704   -14.864   1.0       0.0330  109.158             4.0   \n",
       "4   0.0    0.1360   -12.661   0.0       0.0374  115.418             4.0   \n",
       "\n",
       "   Valence  Explicit  Popularity  \n",
       "0    0.336     False        35.0  \n",
       "1    0.620     False        16.0  \n",
       "2    0.749     False        34.0  \n",
       "3    0.712     False        39.0  \n",
       "4    0.552     False         9.0  "
      ]
     },
     "execution_count": 5,
     "metadata": {},
     "output_type": "execute_result"
    }
   ],
   "source": [
    "X = songs_df.drop(labels=['Artist', 'Title', 'URL', 'TrackId', 'Album', 'Image', 'Winner'], axis=1)\n",
    "X.head()"
   ]
  },
  {
   "cell_type": "code",
   "execution_count": 6,
   "metadata": {},
   "outputs": [
    {
     "data": {
      "text/plain": [
       "Year                  int64\n",
       "Acousticness        float64\n",
       "Danceability        float64\n",
       "Duration (ms)       float64\n",
       "Energy              float64\n",
       "Instrumentalness    float64\n",
       "Key                 float64\n",
       "Liveness            float64\n",
       "Loudness            float64\n",
       "Mode                float64\n",
       "Speechiness         float64\n",
       "Tempo               float64\n",
       "Time Signature      float64\n",
       "Valence             float64\n",
       "Explicit               bool\n",
       "Popularity          float64\n",
       "dtype: object"
      ]
     },
     "execution_count": 6,
     "metadata": {},
     "output_type": "execute_result"
    }
   ],
   "source": [
    "X.dtypes"
   ]
  },
  {
   "cell_type": "code",
   "execution_count": 7,
   "metadata": {},
   "outputs": [],
   "source": [
    "X.Explicit = X.Explicit.astype(int)"
   ]
  },
  {
   "cell_type": "code",
   "execution_count": 8,
   "metadata": {},
   "outputs": [
    {
     "data": {
      "text/plain": [
       "0    13379\n",
       "1     1107\n",
       "Name: Explicit, dtype: int64"
      ]
     },
     "execution_count": 8,
     "metadata": {},
     "output_type": "execute_result"
    }
   ],
   "source": [
    "X.Explicit.value_counts()"
   ]
  },
  {
   "cell_type": "code",
   "execution_count": 9,
   "metadata": {},
   "outputs": [],
   "source": [
    "#excluded_features = ['Year',  'Duration (ms)', 'Key',  'Mode', 'Speechiness', 'Tempo', 'Valence', 'Explicit']\n",
    "excluded_features = ['Key']\n",
    "X.drop(labels=excluded_features, axis=1, inplace=True)\n"
   ]
  },
  {
   "cell_type": "code",
   "execution_count": 10,
   "metadata": {},
   "outputs": [
    {
     "data": {
      "text/plain": [
       "0    1\n",
       "1    1\n",
       "2    1\n",
       "3    1\n",
       "4    1\n",
       "Name: Winner, dtype: int64"
      ]
     },
     "execution_count": 10,
     "metadata": {},
     "output_type": "execute_result"
    }
   ],
   "source": [
    "y = songs_df['Winner']\n",
    "y.head()"
   ]
  },
  {
   "cell_type": "code",
   "execution_count": 11,
   "metadata": {},
   "outputs": [
    {
     "data": {
      "text/plain": [
       "0    10940\n",
       "1     3546\n",
       "Name: Winner, dtype: int64"
      ]
     },
     "execution_count": 11,
     "metadata": {},
     "output_type": "execute_result"
    }
   ],
   "source": [
    "y.value_counts()"
   ]
  },
  {
   "cell_type": "code",
   "execution_count": 12,
   "metadata": {},
   "outputs": [],
   "source": [
    "# Modeling Multi-linear Regression"
   ]
  },
  {
   "cell_type": "code",
   "execution_count": 13,
   "metadata": {},
   "outputs": [
    {
     "name": "stdout",
     "output_type": "stream",
     "text": [
      "R2 Score: 0.2141064958528528\n"
     ]
    }
   ],
   "source": [
    "from sklearn.linear_model import LinearRegression\n",
    "model = LinearRegression()\n",
    "\n",
    "# Fitting our model with all of our features in X\n",
    "model.fit(X, y)\n",
    "\n",
    "score = model.score(X, y)\n",
    "print(f\"R2 Score: {score}\")"
   ]
  },
  {
   "cell_type": "code",
   "execution_count": 14,
   "metadata": {},
   "outputs": [],
   "source": [
    "# Build a residual plot"
   ]
  },
  {
   "cell_type": "code",
   "execution_count": 15,
   "metadata": {},
   "outputs": [
    {
     "data": {
      "image/png": "[encoded data removed]",
      "text/plain": [
       "<Figure size 432x288 with 1 Axes>"
      ]
     },
     "metadata": {
      "needs_background": "light"
     },
     "output_type": "display_data"
    }
   ],
   "source": [
    "predictions = model.predict(X)\n",
    "# Plot Residuals\n",
    "plt.scatter(predictions, predictions - y)\n",
    "plt.hlines(y=0, xmin=predictions.min(), xmax=predictions.max())\n",
    "plt.show()"
   ]
  },
  {
   "cell_type": "code",
   "execution_count": 16,
   "metadata": {},
   "outputs": [],
   "source": [
    "filename = os.path.join('..', 'model', 'grammy_prediction_multi_linear_model.h5')\n",
    "pickle.dump(model, open(filename, 'wb'))"
   ]
  },
  {
   "cell_type": "code",
   "execution_count": 17,
   "metadata": {},
   "outputs": [
    {
     "data": {
      "text/plain": [
       "['..\\\\model\\\\grammy_prediction_scaler.sav']"
      ]
     },
     "execution_count": 17,
     "metadata": {},
     "output_type": "execute_result"
    }
   ],
   "source": [
    "from sklearn.externals import joblib\n",
    "scaler_file = os.path.join('..', 'model', 'grammy_prediction_scaler.sav')\n",
    "joblib.dump(model, scaler_file) "
   ]
  },
  {
   "cell_type": "code",
   "execution_count": null,
   "metadata": {},
   "outputs": [],
   "source": []
  }
 ],
 "metadata": {
  "kernelspec": {
   "display_name": "Python 3",
   "language": "python",
   "name": "python3"
  },
  "language_info": {
   "codemirror_mode": {
    "name": "ipython",
    "version": 3
   },
   "file_extension": ".py",
   "mimetype": "text/x-python",
   "name": "python",
   "nbconvert_exporter": "python",
   "pygments_lexer": "ipython3",
   "version": "3.7.3"
  }
 },
 "nbformat": 4,
 "nbformat_minor": 2
}
