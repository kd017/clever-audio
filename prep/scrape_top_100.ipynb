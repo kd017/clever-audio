{
 "cells": [
  {
   "cell_type": "code",
   "execution_count": 1,
   "metadata": {},
   "outputs": [],
   "source": [
    "import os\n",
    "import requests\n",
    "import pandas as pd\n",
    "from time import sleep\n",
    "from bs4 import BeautifulSoup\n",
    "import re"
   ]
  },
  {
   "cell_type": "code",
   "execution_count": 2,
   "metadata": {},
   "outputs": [],
   "source": [
    "TOP_100_SONG_PAGE='https://www.musicoutfitters.com/topsongs/{0}.htm'"
   ]
  },
  {
   "cell_type": "code",
   "execution_count": 3,
   "metadata": {},
   "outputs": [],
   "source": [
    "TOP_SONG_FILE_NAME = os.path.join('..', 'data', 'top-100-songs.csv')\n",
    "with open(TOP_SONG_FILE_NAME, 'w') as tsf:\n",
    "    tsf.write('Year,Position,Artist,Title\\n')\n",
    "    for year in range(1958, 2019):\n",
    "        resp = requests.get(TOP_100_SONG_PAGE.format(year))\n",
    "        soup = BeautifulSoup(resp.content, 'html.parser')\n",
    "        entries = soup.findAll('li', class_=\"list-group-item\")\n",
    "        for entry in entries:\n",
    "            #print(entry.text)\n",
    "            match = re.match(r'([0-9]+)\\.(.+)-(.+)', entry.text)\n",
    "            if match:\n",
    "                groups = match.groups()\n",
    "                position = int(groups[0].strip())\n",
    "                title = groups[1].strip()\n",
    "                artist = groups[2].strip()\n",
    "                #print(position, title, artist)\n",
    "                tsf.write(f\"{year},{position},{artist},{title}\\n\")"
   ]
  },
  {
   "cell_type": "code",
   "execution_count": null,
   "metadata": {},
   "outputs": [],
   "source": []
  }
 ],
 "metadata": {
  "kernelspec": {
   "display_name": "Python 3",
   "language": "python",
   "name": "python3"
  },
  "language_info": {
   "codemirror_mode": {
    "name": "ipython",
    "version": 3
   },
   "file_extension": ".py",
   "mimetype": "text/x-python",
   "name": "python",
   "nbconvert_exporter": "python",
   "pygments_lexer": "ipython3",
   "version": "3.7.2"
  }
 },
 "nbformat": 4,
 "nbformat_minor": 2
}
