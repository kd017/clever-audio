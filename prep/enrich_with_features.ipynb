{
 "cells": [
  {
   "cell_type": "code",
   "execution_count": 1,
   "metadata": {},
   "outputs": [],
   "source": [
    "import os\n",
    "import requests\n",
    "import pandas as pd\n",
    "import spotipy\n",
    "import spotipy.util as util\n",
    "from spotipy.oauth2 import SpotifyClientCredentials\n",
    "from pprint import pprint\n",
    "from time import sleep\n",
    "from bs4 import BeautifulSoup\n",
    "import re\n",
    "from ipywidgets import IntProgress\n",
    "from IPython.display import display"
   ]
  },
  {
   "cell_type": "code",
   "execution_count": 2,
   "metadata": {},
   "outputs": [],
   "source": [
    "# Spotify API Keys\n",
    "spotify_cliend_id='bca78196e824433fbdf88ec18d84825f'\n",
    "spotify_client_secret='d43763215bd8435eb9b3faaf048ca038'\n",
    "os.environ['SPOTIPY_CLIENT_ID']=spotify_cliend_id\n",
    "os.environ['SPOTIPY_CLIENT_SECRET']=spotify_client_secret"
   ]
  },
  {
   "cell_type": "code",
   "execution_count": 3,
   "metadata": {},
   "outputs": [],
   "source": [
    "# Generate API Token\n",
    "client_credentials_manager = SpotifyClientCredentials()\n",
    "sp = spotipy.Spotify(client_credentials_manager=client_credentials_manager)"
   ]
  },
  {
   "cell_type": "code",
   "execution_count": 4,
   "metadata": {},
   "outputs": [],
   "source": [
    "def get_features(title, artist, year=None):\n",
    "    year_part=f\"year:{year}\" if year is not None else ''\n",
    "    artist = str(artist)\n",
    "    if ',' in artist:\n",
    "        artists = artist.split(',')\n",
    "        for artist in artists:\n",
    "            features = get_features(title, artist)\n",
    "            if features is not None:\n",
    "                return features\n",
    "            \n",
    "    results = sp.search(q=f'track:{title} artist:{artist} {year_part}', type='track', limit=1)\n",
    "    if len(results['tracks']['items']) == 0:\n",
    "        results = sp.search(q=f'{title} artist:{artist} {year_part}', type='track', limit=1)\n",
    "    if len(results['tracks']['items']) == 0:\n",
    "        results = sp.search(q=f'{title} {year_part}', type='track', limit=1)\n",
    "    if len(results['tracks']['items']) == 0:\n",
    "        results = sp.search(q=f'artist:{artist} {year_part}', type='track', limit=1)\n",
    "    if len(results['tracks']['items']) == 0:\n",
    "        return\n",
    "    track_info = results['tracks']['items'][0]\n",
    "    track_id = track_info['id']\n",
    "    features = sp.audio_features([track_id])[0]\n",
    "    \n",
    "    if features is None:\n",
    "        return\n",
    "    \n",
    "    features_as_dict = {\n",
    "        'URL': track_info['external_urls']['spotify'],\n",
    "        'TrackId': track_id,\n",
    "        'Acousticness': features['acousticness'],\n",
    "        'Danceability': features['danceability'],\n",
    "        'Duration (ms)': features['duration_ms'],\n",
    "        'Energy': features['energy'],\n",
    "        'Instrumentalness': features['instrumentalness'],\n",
    "        'Key': features['key'],\n",
    "        'Liveness': features['liveness'],\n",
    "        'Loudness': features['loudness'],\n",
    "        'Mode': features['mode'],\n",
    "        'Speechiness': features['speechiness'],\n",
    "        'Tempo': features['tempo'],\n",
    "        'Time Signature': features['time_signature'],\n",
    "        'Valence': features['valence'],\n",
    "        'Album': track_info['album']['name'],\n",
    "        'Image': track_info['album']['images'][0]['url'] if len(track_info['album']['images'])>0 else None,\n",
    "        'Explicit': track_info['explicit'],\n",
    "        'Popularity': track_info['popularity'],\n",
    "        'Preview': track_info['preview_url']\n",
    "    }\n",
    "    return features_as_dict"
   ]
  },
  {
   "cell_type": "code",
   "execution_count": null,
   "metadata": {},
   "outputs": [
    {
     "data": {
      "text/plain": [
       "{'URL': 'https://open.spotify.com/track/1Q5kgpp4pmyGqPwNBzkSrw',\n",
       " 'TrackId': '1Q5kgpp4pmyGqPwNBzkSrw',\n",
       " 'Acousticness': 0.337,\n",
       " 'Danceability': 0.612,\n",
       " 'Duration (ms)': 243827,\n",
       " 'Energy': 0.634,\n",
       " 'Instrumentalness': 4.6e-05,\n",
       " 'Key': 9,\n",
       " 'Liveness': 0.147,\n",
       " 'Loudness': -8.212,\n",
       " 'Mode': 1,\n",
       " 'Speechiness': 0.0319,\n",
       " 'Tempo': 121.059,\n",
       " 'Time Signature': 4,\n",
       " 'Valence': 0.904,\n",
       " 'Album': 'Morrison Hotel',\n",
       " 'Image': 'https://i.scdn.co/image/34b1c4afdd8e576fb048e9e6c900c6c9fe33ea76',\n",
       " 'Explicit': False,\n",
       " 'Popularity': 71,\n",
       " 'Preview': 'https://p.scdn.co/mp3-preview/ce4e9952e1519b9fe6c858b085fbe79077ec9dfb?cid=bca78196e824433fbdf88ec18d84825f'}"
      ]
     },
     "execution_count": 5,
     "metadata": {},
     "output_type": "execute_result"
    }
   ],
   "source": [
    "get_features('Roadhouse Blues', 'Doors')"
   ]
  },
  {
   "cell_type": "code",
   "execution_count": null,
   "metadata": {},
   "outputs": [
    {
     "data": {
      "text/plain": [
       "{'URL': 'https://open.spotify.com/track/4nmD7mHFACe4XwcoZ7wWsy',\n",
       " 'TrackId': '4nmD7mHFACe4XwcoZ7wWsy',\n",
       " 'Acousticness': 0.536,\n",
       " 'Danceability': 0.355,\n",
       " 'Duration (ms)': 344853,\n",
       " 'Energy': 0.828,\n",
       " 'Instrumentalness': 5.6e-05,\n",
       " 'Key': 2,\n",
       " 'Liveness': 0.931,\n",
       " 'Loudness': -10.261,\n",
       " 'Mode': 0,\n",
       " 'Speechiness': 0.487,\n",
       " 'Tempo': 136.013,\n",
       " 'Time Signature': 4,\n",
       " 'Valence': 0.238,\n",
       " 'Album': 'Tap Your Troubles Away! - The Words and Music of Jerry Herman',\n",
       " 'Image': 'https://i.scdn.co/image/4b4b77ce331bbbbc7d696516649ad758d632f313',\n",
       " 'Explicit': False,\n",
       " 'Popularity': 3,\n",
       " 'Preview': 'https://p.scdn.co/mp3-preview/ca80ddfa159bc9ec96b615e6c106d1e2efb8978f?cid=bca78196e824433fbdf88ec18d84825f'}"
      ]
     },
     "execution_count": 6,
     "metadata": {},
     "output_type": "execute_result"
    }
   ],
   "source": [
    "get_features('Mame', 'Angela Lansbury, Bea Arthur, Jane Connell, Charles Braswell, Jerry Lanning, Frankie Michaels')"
   ]
  },
  {
   "cell_type": "code",
   "execution_count": null,
   "metadata": {},
   "outputs": [
    {
     "data": {
      "text/plain": [
       "{'URL': 'https://open.spotify.com/track/3ZxPZcLbINzbetZFcJthvU',\n",
       " 'TrackId': '3ZxPZcLbINzbetZFcJthvU',\n",
       " 'Acousticness': 0.838,\n",
       " 'Danceability': 0.627,\n",
       " 'Duration (ms)': 156467,\n",
       " 'Energy': 0.131,\n",
       " 'Instrumentalness': 0,\n",
       " 'Key': 10,\n",
       " 'Liveness': 0.223,\n",
       " 'Loudness': -13.779,\n",
       " 'Mode': 1,\n",
       " 'Speechiness': 0.0503,\n",
       " 'Tempo': 143.087,\n",
       " 'Time Signature': 4,\n",
       " 'Valence': 0.351,\n",
       " 'Album': 'Ella Swings Lightly',\n",
       " 'Image': 'https://i.scdn.co/image/7f33383709040fba7b408770758b9b0d7ba4239a',\n",
       " 'Explicit': False,\n",
       " 'Popularity': 13,\n",
       " 'Preview': None}"
      ]
     },
     "execution_count": 7,
     "metadata": {},
     "output_type": "execute_result"
    }
   ],
   "source": [
    "get_features('Ella Swings Lightly', 'Ella Fitzgerald', 1958)"
   ]
  },
  {
   "cell_type": "code",
   "execution_count": null,
   "metadata": {},
   "outputs": [
    {
     "data": {
      "text/plain": [
       "{'URL': 'https://open.spotify.com/track/5FY0EikZVSBOwpjQa9S5Ii',\n",
       " 'TrackId': '5FY0EikZVSBOwpjQa9S5Ii',\n",
       " 'Acousticness': 0.675,\n",
       " 'Danceability': 0.615,\n",
       " 'Duration (ms)': 138320,\n",
       " 'Energy': 0.186,\n",
       " 'Instrumentalness': 0,\n",
       " 'Key': 0,\n",
       " 'Liveness': 0.194,\n",
       " 'Loudness': -12.382,\n",
       " 'Mode': 0,\n",
       " 'Speechiness': 0.0508,\n",
       " 'Tempo': 73.007,\n",
       " 'Time Signature': 4,\n",
       " 'Valence': 0.749,\n",
       " 'Album': 'Ella Fitzgerald Sings The Irving Berlin Song Book',\n",
       " 'Image': 'https://i.scdn.co/image/3350581fb4712a44a6f6b50e234f6539c291b425',\n",
       " 'Explicit': False,\n",
       " 'Popularity': 34,\n",
       " 'Preview': None}"
      ]
     },
     "execution_count": 8,
     "metadata": {},
     "output_type": "execute_result"
    }
   ],
   "source": [
    "get_features('Ella Fitzgerald Sings The Duke Ellington Song Book', 'Ella Fitzgerald', 1958)"
   ]
  },
  {
   "cell_type": "code",
   "execution_count": null,
   "metadata": {},
   "outputs": [],
   "source": [
    "get_features('Hev Yew Gotta Loight, Boy?', 'The Singing Postman', year=1964)"
   ]
  },
  {
   "cell_type": "code",
   "execution_count": null,
   "metadata": {},
   "outputs": [],
   "source": [
    "GRAMMY_WINNERS = os.path.join('..', 'data', 'grammy-winners.csv')\n",
    "GRAMMY_WINNERS_ENRICHED = os.path.join('..', 'data', 'grammy-winners-enriched.csv')\n",
    "SONGS_RELEASED = os.path.join('..', 'data', 'songs-released.csv')\n",
    "SONGS_RELEASED_ENRICHED = os.path.join('..', 'data', 'songs-released-enriched.csv')\n",
    "TOP_100_SONGS = os.path.join('..', 'data', 'top-100-songs.csv')\n",
    "TOP_100_SONGS_ENRICHED = os.path.join('..', 'data', 'top-100-songs-enriched.csv')"
   ]
  },
  {
   "cell_type": "code",
   "execution_count": null,
   "metadata": {},
   "outputs": [
    {
     "data": {
      "text/html": [
       "<div>\n",
       "<style scoped>\n",
       "    .dataframe tbody tr th:only-of-type {\n",
       "        vertical-align: middle;\n",
       "    }\n",
       "\n",
       "    .dataframe tbody tr th {\n",
       "        vertical-align: top;\n",
       "    }\n",
       "\n",
       "    .dataframe thead th {\n",
       "        text-align: right;\n",
       "    }\n",
       "</style>\n",
       "<table border=\"1\" class=\"dataframe\">\n",
       "  <thead>\n",
       "    <tr style=\"text-align: right;\">\n",
       "      <th></th>\n",
       "      <th>Year</th>\n",
       "      <th>Artist</th>\n",
       "      <th>Title</th>\n",
       "    </tr>\n",
       "  </thead>\n",
       "  <tbody>\n",
       "    <tr>\n",
       "      <th>0</th>\n",
       "      <td>1958</td>\n",
       "      <td>Domenico Modugno</td>\n",
       "      <td>Nel Blu Dipinto Di Blu (Volare)</td>\n",
       "    </tr>\n",
       "    <tr>\n",
       "      <th>1</th>\n",
       "      <td>1958</td>\n",
       "      <td>Henry Mancini</td>\n",
       "      <td>The Music From Peter Gunn</td>\n",
       "    </tr>\n",
       "    <tr>\n",
       "      <th>2</th>\n",
       "      <td>1958</td>\n",
       "      <td>Domenico Modugno, songwriter (Domenico Modugno)</td>\n",
       "      <td>Nel Blu Dipinto Di Blu (Volare)</td>\n",
       "    </tr>\n",
       "    <tr>\n",
       "      <th>3</th>\n",
       "      <td>1958</td>\n",
       "      <td>Ella Fitzgerald</td>\n",
       "      <td>Ella Fitzgerald Sings The Irving Berlin Song Book</td>\n",
       "    </tr>\n",
       "    <tr>\n",
       "      <th>4</th>\n",
       "      <td>1958</td>\n",
       "      <td>Perry Como</td>\n",
       "      <td>Catch A Falling Star</td>\n",
       "    </tr>\n",
       "  </tbody>\n",
       "</table>\n",
       "</div>"
      ],
      "text/plain": [
       "   Year                                           Artist  \\\n",
       "0  1958                                 Domenico Modugno   \n",
       "1  1958                                    Henry Mancini   \n",
       "2  1958  Domenico Modugno, songwriter (Domenico Modugno)   \n",
       "3  1958                                  Ella Fitzgerald   \n",
       "4  1958                                       Perry Como   \n",
       "\n",
       "                                               Title  \n",
       "0                    Nel Blu Dipinto Di Blu (Volare)  \n",
       "1                          The Music From Peter Gunn  \n",
       "2                    Nel Blu Dipinto Di Blu (Volare)  \n",
       "3  Ella Fitzgerald Sings The Irving Berlin Song Book  \n",
       "4                               Catch A Falling Star  "
      ]
     },
     "execution_count": 11,
     "metadata": {},
     "output_type": "execute_result"
    }
   ],
   "source": [
    "grammy_winners_df = pd.read_csv(GRAMMY_WINNERS)\n",
    "grammy_winners_df.rename(columns={'annualGrammy':'Year', 'awardFor':'Title', 'name':'Artist'}, inplace=True)\n",
    "grammy_winners_df.drop(labels=['awardType', 'category'], axis=1, inplace=True)\n",
    "grammy_winners_df['Year'] = grammy_winners_df.Year + 1957\n",
    "grammy_winners_df.drop_duplicates(inplace=True)\n",
    "grammy_winners_df = grammy_winners_df[['Year', 'Artist', 'Title']]\n",
    "grammy_winners_df.head()"
   ]
  },
  {
   "cell_type": "code",
   "execution_count": null,
   "metadata": {},
   "outputs": [
    {
     "data": {
      "text/html": [
       "<div>\n",
       "<style scoped>\n",
       "    .dataframe tbody tr th:only-of-type {\n",
       "        vertical-align: middle;\n",
       "    }\n",
       "\n",
       "    .dataframe tbody tr th {\n",
       "        vertical-align: top;\n",
       "    }\n",
       "\n",
       "    .dataframe thead th {\n",
       "        text-align: right;\n",
       "    }\n",
       "</style>\n",
       "<table border=\"1\" class=\"dataframe\">\n",
       "  <thead>\n",
       "    <tr style=\"text-align: right;\">\n",
       "      <th></th>\n",
       "      <th>Year</th>\n",
       "      <th>Artist</th>\n",
       "      <th>Title</th>\n",
       "    </tr>\n",
       "  </thead>\n",
       "  <tbody>\n",
       "    <tr>\n",
       "      <th>0</th>\n",
       "      <td>1958</td>\n",
       "      <td>Clyde McPhatter</td>\n",
       "      <td>A Lover's Question</td>\n",
       "    </tr>\n",
       "    <tr>\n",
       "      <th>1</th>\n",
       "      <td>1958</td>\n",
       "      <td>Pat Boone</td>\n",
       "      <td>A Wonderful Time Up There</td>\n",
       "    </tr>\n",
       "    <tr>\n",
       "      <th>2</th>\n",
       "      <td>1958</td>\n",
       "      <td>The Everly Brothers</td>\n",
       "      <td>All I Have to Do Is Dream</td>\n",
       "    </tr>\n",
       "    <tr>\n",
       "      <th>3</th>\n",
       "      <td>1958</td>\n",
       "      <td>Andy Williams</td>\n",
       "      <td>Are You Sincere</td>\n",
       "    </tr>\n",
       "    <tr>\n",
       "      <th>4</th>\n",
       "      <td>1958</td>\n",
       "      <td>The Playmates</td>\n",
       "      <td>Beep Beep</td>\n",
       "    </tr>\n",
       "  </tbody>\n",
       "</table>\n",
       "</div>"
      ],
      "text/plain": [
       "   Year               Artist                      Title\n",
       "0  1958      Clyde McPhatter         A Lover's Question\n",
       "1  1958            Pat Boone  A Wonderful Time Up There\n",
       "2  1958  The Everly Brothers  All I Have to Do Is Dream\n",
       "3  1958        Andy Williams            Are You Sincere\n",
       "4  1958        The Playmates                  Beep Beep"
      ]
     },
     "execution_count": 12,
     "metadata": {},
     "output_type": "execute_result"
    }
   ],
   "source": [
    "songs_released_df = pd.read_csv(SONGS_RELEASED)\n",
    "songs_released_df.drop_duplicates(inplace=True)\n",
    "songs_released_df = songs_released_df[['Year', 'Artist', 'Title']]\n",
    "songs_released_df.head()"
   ]
  },
  {
   "cell_type": "code",
   "execution_count": null,
   "metadata": {},
   "outputs": [
    {
     "data": {
      "text/html": [
       "<div>\n",
       "<style scoped>\n",
       "    .dataframe tbody tr th:only-of-type {\n",
       "        vertical-align: middle;\n",
       "    }\n",
       "\n",
       "    .dataframe tbody tr th {\n",
       "        vertical-align: top;\n",
       "    }\n",
       "\n",
       "    .dataframe thead th {\n",
       "        text-align: right;\n",
       "    }\n",
       "</style>\n",
       "<table border=\"1\" class=\"dataframe\">\n",
       "  <thead>\n",
       "    <tr style=\"text-align: right;\">\n",
       "      <th></th>\n",
       "      <th>Year</th>\n",
       "      <th>Artist</th>\n",
       "      <th>Title</th>\n",
       "    </tr>\n",
       "  </thead>\n",
       "  <tbody>\n",
       "    <tr>\n",
       "      <th>0</th>\n",
       "      <td>1958</td>\n",
       "      <td>Domenico Modugno</td>\n",
       "      <td>Volare</td>\n",
       "    </tr>\n",
       "    <tr>\n",
       "      <th>1</th>\n",
       "      <td>1958</td>\n",
       "      <td>Everly Brothers</td>\n",
       "      <td>All I Have To Do Is Dream / Claudette</td>\n",
       "    </tr>\n",
       "    <tr>\n",
       "      <th>2</th>\n",
       "      <td>1958</td>\n",
       "      <td>Elvis Presley</td>\n",
       "      <td>Don't / I Beg of You</td>\n",
       "    </tr>\n",
       "    <tr>\n",
       "      <th>3</th>\n",
       "      <td>1958</td>\n",
       "      <td>David Seville</td>\n",
       "      <td>Witch Doctor</td>\n",
       "    </tr>\n",
       "    <tr>\n",
       "      <th>4</th>\n",
       "      <td>1958</td>\n",
       "      <td>Pérez Prado</td>\n",
       "      <td>Patricia</td>\n",
       "    </tr>\n",
       "  </tbody>\n",
       "</table>\n",
       "</div>"
      ],
      "text/plain": [
       "   Year            Artist                                  Title\n",
       "0  1958  Domenico Modugno                                 Volare\n",
       "1  1958   Everly Brothers  All I Have To Do Is Dream / Claudette\n",
       "2  1958     Elvis Presley                   Don't / I Beg of You\n",
       "3  1958     David Seville                           Witch Doctor\n",
       "4  1958       Pérez Prado                               Patricia"
      ]
     },
     "execution_count": 13,
     "metadata": {},
     "output_type": "execute_result"
    }
   ],
   "source": [
    "top_100_songs_df = pd.read_csv(TOP_100_SONGS)\n",
    "top_100_songs_df.drop_duplicates(inplace=True)\n",
    "top_100_songs_df = top_100_songs_df[['Year', 'Artist', 'Title']]\n",
    "top_100_songs_df.drop_duplicates(inplace=True)\n",
    "top_100_songs_df.head()"
   ]
  },
  {
   "cell_type": "code",
   "execution_count": null,
   "metadata": {},
   "outputs": [],
   "source": [
    "import time\n",
    "def enrich_with_features(df):\n",
    "    pb = IntProgress(min=0, max=len(df))\n",
    "    display(pb)\n",
    "    failures = []\n",
    "    for index, row in df.iterrows():\n",
    "        time.sleep(4)\n",
    "        features = get_features(row['Title'], row['Artist'], row['Year'])\n",
    "        pb.value += 1\n",
    "        if features is None:\n",
    "            failures.append((row['Title'], row['Artist'], row['Year']))\n",
    "            continue\n",
    "        for k, v in features.items():\n",
    "            df.loc[index, k] = v\n",
    "            \n",
    "    print(f'Number of failures - {len(failures)}')\n",
    "    print(failures)\n",
    "    return df"
   ]
  },
  {
   "cell_type": "code",
   "execution_count": null,
   "metadata": {},
   "outputs": [
    {
     "data": {
      "text/plain": [
       "(3911, 3)"
      ]
     },
     "execution_count": 15,
     "metadata": {},
     "output_type": "execute_result"
    }
   ],
   "source": [
    "grammy_winners_df.shape"
   ]
  },
  {
   "cell_type": "code",
   "execution_count": null,
   "metadata": {
    "scrolled": false
   },
   "outputs": [
    {
     "data": {
      "application/vnd.jupyter.widget-view+json": {
       "model_id": "870f7d4c146a442698b92ad5101a10d7",
       "version_major": 2,
       "version_minor": 0
      },
      "text/plain": [
       "IntProgress(value=0, max=3911)"
      ]
     },
     "metadata": {},
     "output_type": "display_data"
    },
    {
     "name": "stdout",
     "output_type": "stream",
     "text": [
      "retrying ...1secs\n",
      "retrying ...1secs\n",
      "retrying ...1secs\n",
      "retrying ...1secs\n"
     ]
    }
   ],
   "source": [
    "grammy_winners_enriched_df = enrich_with_features(grammy_winners_df)\n",
    "grammy_winners_enriched_df.head()"
   ]
  },
  {
   "cell_type": "code",
   "execution_count": null,
   "metadata": {},
   "outputs": [],
   "source": [
    "grammy_winners_enriched_df.shape"
   ]
  },
  {
   "cell_type": "code",
   "execution_count": null,
   "metadata": {},
   "outputs": [],
   "source": [
    "grammy_winners_enriched_df.to_csv(GRAMMY_WINNERS_ENRICHED, index=False)"
   ]
  },
  {
   "cell_type": "code",
   "execution_count": null,
   "metadata": {},
   "outputs": [],
   "source": [
    "songs_released_df.shape"
   ]
  },
  {
   "cell_type": "code",
   "execution_count": null,
   "metadata": {},
   "outputs": [],
   "source": [
    "songs_released_enriched_df = enrich_with_features(songs_released_df)\n",
    "songs_released_enriched_df.head()"
   ]
  },
  {
   "cell_type": "code",
   "execution_count": null,
   "metadata": {},
   "outputs": [],
   "source": [
    "songs_released_enriched_df.shape"
   ]
  },
  {
   "cell_type": "code",
   "execution_count": null,
   "metadata": {},
   "outputs": [],
   "source": [
    "songs_released_enriched_df.to_csv(SONGS_RELEASED_ENRICHED, index=False)"
   ]
  },
  {
   "cell_type": "code",
   "execution_count": null,
   "metadata": {},
   "outputs": [],
   "source": [
    "top_100_songs_df.shape"
   ]
  },
  {
   "cell_type": "code",
   "execution_count": null,
   "metadata": {},
   "outputs": [],
   "source": [
    "top_100_songs_enriched_df = enrich_with_features(top_100_songs_df)\n",
    "top_100_songs_enriched_df.head()"
   ]
  },
  {
   "cell_type": "code",
   "execution_count": null,
   "metadata": {},
   "outputs": [],
   "source": [
    "top_100_songs_enriched_df.shape"
   ]
  },
  {
   "cell_type": "code",
   "execution_count": null,
   "metadata": {},
   "outputs": [],
   "source": [
    "top_100_songs_enriched_df.to_csv(TOP_100_SONGS_ENRICHED, index=False)"
   ]
  }
 ],
 "metadata": {
  "kernelspec": {
   "display_name": "Python 3",
   "language": "python",
   "name": "python3"
  },
  "language_info": {
   "codemirror_mode": {
    "name": "ipython",
    "version": 3
   },
   "file_extension": ".py",
   "mimetype": "text/x-python",
   "name": "python",
   "nbconvert_exporter": "python",
   "pygments_lexer": "ipython3",
   "version": "3.7.2"
  }
 },
 "nbformat": 4,
 "nbformat_minor": 2
}
