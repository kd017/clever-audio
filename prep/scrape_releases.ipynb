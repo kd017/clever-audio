{
 "cells": [
  {
   "cell_type": "code",
   "execution_count": 1,
   "metadata": {},
   "outputs": [],
   "source": [
    "import os\n",
    "import requests\n",
    "import pandas as pd\n",
    "from time import sleep\n",
    "from bs4 import BeautifulSoup\n",
    "import re\n",
    "import time"
   ]
  },
  {
   "cell_type": "code",
   "execution_count": 2,
   "metadata": {},
   "outputs": [],
   "source": [
    "RELEASED_SONGS_PAGE='http://web.archive.org/web/20190402152404/https://www.songfacts.com/browse/years/{0}'"
   ]
  },
  {
   "cell_type": "code",
   "execution_count": 3,
   "metadata": {},
   "outputs": [
    {
     "name": "stdout",
     "output_type": "stream",
     "text": [
      "1958\n",
      "1959\n",
      "1960\n",
      "1961\n",
      "1962\n",
      "1963\n",
      "1964\n",
      "1965\n",
      "1966\n",
      "1967\n",
      "1968\n",
      "1969\n",
      "1970\n",
      "1971\n",
      "1972\n",
      "1973\n",
      "1974\n",
      "1975\n",
      "1976\n",
      "1977\n",
      "1978\n",
      "1979\n",
      "1980\n",
      "1981\n",
      "1982\n",
      "1983\n",
      "1984\n",
      "1985\n",
      "1986\n",
      "1987\n",
      "1988\n",
      "1989\n",
      "1990\n",
      "1991\n",
      "1992\n",
      "1993\n",
      "1994\n",
      "1995\n",
      "1996\n",
      "1997\n",
      "1998\n",
      "1999\n",
      "2000\n",
      "2001\n",
      "2002\n",
      "2003\n",
      "2004\n",
      "2005\n",
      "2006\n",
      "2007\n",
      "2008\n",
      "2009\n",
      "2010\n",
      "2011\n",
      "2012\n",
      "2013\n",
      "2014\n",
      "2015\n",
      "2016\n",
      "2017\n",
      "2018\n"
     ]
    }
   ],
   "source": [
    "RELEASED_SONG_FILE_NAME = os.path.join('..', 'data', 'songs-released.csv')\n",
    "headers = {'User-Agent': 'Mozilla/5.0 (Macintosh; Intel Mac OS X 10_14_4) AppleWebKit/537.36 (KHTML, like Gecko) Chrome/73.0.3683.103 Safari/537.36'}\n",
    "with open(RELEASED_SONG_FILE_NAME, 'w') as rsf:\n",
    "    rsf.write('Year,Artist,Title\\n')\n",
    "    for year in range(1958, 2019):\n",
    "        print(year)\n",
    "        time.sleep(1)\n",
    "        resp = requests.get(RELEASED_SONGS_PAGE.format(year), headers=headers)\n",
    "        soup = BeautifulSoup(resp.content, 'html.parser')\n",
    "        #print(soup)\n",
    "        ul = soup.findAll('ul', class_=\"browse-list-dark\")\n",
    "        if len(ul) == 0:\n",
    "            continue\n",
    "        entries = ul[0].findAll('li')\n",
    "        for entry in entries:\n",
    "            #print(entry.text)\n",
    "            match = re.match(r'(.+) - (.+)', entry.text)\n",
    "            if match:\n",
    "                groups = match.groups()\n",
    "                title = groups[0].strip()\n",
    "                artist = groups[1].strip()\n",
    "                #print(title, artist)\n",
    "                rsf.write(f\"{year},{artist},{title}\\n\")"
   ]
  },
  {
   "cell_type": "code",
   "execution_count": null,
   "metadata": {},
   "outputs": [],
   "source": []
  }
 ],
 "metadata": {
  "kernelspec": {
   "display_name": "Python 3",
   "language": "python",
   "name": "python3"
  },
  "language_info": {
   "codemirror_mode": {
    "name": "ipython",
    "version": 3
   },
   "file_extension": ".py",
   "mimetype": "text/x-python",
   "name": "python",
   "nbconvert_exporter": "python",
   "pygments_lexer": "ipython3",
   "version": "3.7.2"
  }
 },
 "nbformat": 4,
 "nbformat_minor": 2
}
